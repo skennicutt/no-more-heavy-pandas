{
 "cells": [
  {
   "cell_type": "code",
   "execution_count": 193,
   "metadata": {},
   "outputs": [],
   "source": [
    "import pandas as pd\n",
    "import matplotlib.pyplot as plt"
   ]
  },
  {
   "cell_type": "code",
   "execution_count": 194,
   "metadata": {},
   "outputs": [],
   "source": [
    "# Suggest protein levels (g/lb) for Body Fat % on a sliding scale between 1.2 and 1.6\n",
    "def get_target_protein_intake(row):\n",
    "    if row['Body Fat %'] <= 10:\n",
    "        return 1.6 * row[\"LBM\"]\n",
    "    elif row['Body Fat %'] < 15:\n",
    "        return (1.6 - (row['Body Fat %'] - 5) * 0.05) * row[\"LBM\"]\n",
    "    elif row['Body Fat %'] < 20:\n",
    "        return (1.5 - (row['Body Fat %'] - 10) * 0.05) * row[\"LBM\"]\n",
    "    elif row['Body Fat %'] < 25:\n",
    "        return (1.4 - (row['Body Fat %'] - 15) * 0.05) * row[\"LBM\"]\n",
    "    else:\n",
    "        return 1.2 * row[\"LBM\"]"
   ]
  },
  {
   "cell_type": "code",
   "execution_count": 195,
   "metadata": {},
   "outputs": [],
   "source": [
    "dataframe = pd.read_csv('progress.csv')\n",
    "dataframe[\"Date\"] = pd.to_datetime(dataframe[\"Date\"])\n",
    "dataframe[[\"Weight (delta)\", \"Body Fat (delta)\"]] = dataframe[[\"Weight\", \"Body Fat %\"]] - dataframe[[\"Weight\", \"Body Fat %\"]].shift(1)\n",
    "dataframe[\"Calorie Budget\"] = dataframe[\"Apple Watch Calories Burned\"] + dataframe[\"BMR\"] - 200\n",
    "dataframe[\"Net Calories\"] = dataframe[\"Calorie Budget\"] - dataframe[\"Calorie Intake\"]\n",
    "dataframe[\"LBM\"] = (dataframe[\"Weight\"] - ((dataframe[\"Body Fat %\"] / 100) * dataframe[\"Weight\"])).round(1)\n",
    "dataframe[\"Target Protein Intake\"] = dataframe.apply(get_target_protein_intake, axis=1)\n",
    "dataframe[\"Body Fat (delta) - Weekly Rolling Average\"] = (dataframe.rolling(window=7, min_periods=0)['Body Fat (delta)'].mean()).round(1)\n",
    "dataframe[\"LBM - Weekly Rolling Average\"] = (dataframe.rolling(window=7, min_periods=0)['LBM'].mean()).round(1)\n",
    "dataframe[\"Weight - Weekly Rolling Average\"] = (dataframe.rolling(window=7, min_periods=0)['Weight'].mean()).round(1)\n",
    "dataframe[\"Net Calories - Weekly Rolling Sum\"] = (dataframe.rolling(window=7, min_periods=0)['Net Calories'].sum())\n",
    "dataframe[\"Expected Weight Loss\"] = (dataframe[\"Net Calories\"].shift(1) / 3500).round(1)\n",
    "dataframe[\"8% Body Fat\"] = (dataframe[\"LBM\"] * 1.08).round(1)\n",
    "dataframe[\"12% Body Fat\"] = (dataframe[\"LBM\"] * 1.12).round(1)\n",
    "dataframe[\"16% Body Fat\"] = (dataframe[\"LBM\"] * 1.16).round(1)"
   ]
  },
  {
   "cell_type": "code",
   "execution_count": 196,
   "metadata": {},
   "outputs": [
    {
     "data": {
      "text/html": [
       "<div>\n",
       "<style scoped>\n",
       "    .dataframe tbody tr th:only-of-type {\n",
       "        vertical-align: middle;\n",
       "    }\n",
       "\n",
       "    .dataframe tbody tr th {\n",
       "        vertical-align: top;\n",
       "    }\n",
       "\n",
       "    .dataframe thead th {\n",
       "        text-align: right;\n",
       "    }\n",
       "</style>\n",
       "<table border=\"1\" class=\"dataframe\">\n",
       "  <thead>\n",
       "    <tr style=\"text-align: right;\">\n",
       "      <th></th>\n",
       "      <th>Date</th>\n",
       "      <th>Weight</th>\n",
       "      <th>Body Fat %</th>\n",
       "      <th>BMR</th>\n",
       "      <th>Apple Watch Calories Burned</th>\n",
       "      <th>Calorie Intake</th>\n",
       "      <th>Weight (delta)</th>\n",
       "      <th>Body Fat (delta)</th>\n",
       "      <th>Calorie Budget</th>\n",
       "      <th>Net Calories</th>\n",
       "      <th>LBM</th>\n",
       "      <th>Target Protein Intake</th>\n",
       "      <th>Body Fat (delta) - Weekly Rolling Average</th>\n",
       "      <th>LBM - Weekly Rolling Average</th>\n",
       "      <th>Weight - Weekly Rolling Average</th>\n",
       "      <th>Net Calories - Weekly Rolling Sum</th>\n",
       "      <th>Expected Weight Loss</th>\n",
       "      <th>8% Body Fat</th>\n",
       "      <th>12% Body Fat</th>\n",
       "      <th>16% Body Fat</th>\n",
       "    </tr>\n",
       "  </thead>\n",
       "  <tbody>\n",
       "    <tr>\n",
       "      <th>4</th>\n",
       "      <td>2022-10-07</td>\n",
       "      <td>245.0</td>\n",
       "      <td>30.0</td>\n",
       "      <td>2200</td>\n",
       "      <td>1125</td>\n",
       "      <td>2292</td>\n",
       "      <td>-0.4</td>\n",
       "      <td>0.0</td>\n",
       "      <td>3125</td>\n",
       "      <td>833</td>\n",
       "      <td>171.5</td>\n",
       "      <td>205.80</td>\n",
       "      <td>0.0</td>\n",
       "      <td>172.1</td>\n",
       "      <td>245.8</td>\n",
       "      <td>4763.0</td>\n",
       "      <td>0.3</td>\n",
       "      <td>185.2</td>\n",
       "      <td>192.1</td>\n",
       "      <td>198.9</td>\n",
       "    </tr>\n",
       "    <tr>\n",
       "      <th>5</th>\n",
       "      <td>2022-10-08</td>\n",
       "      <td>244.6</td>\n",
       "      <td>30.0</td>\n",
       "      <td>2144</td>\n",
       "      <td>597</td>\n",
       "      <td>1917</td>\n",
       "      <td>-0.4</td>\n",
       "      <td>0.0</td>\n",
       "      <td>2541</td>\n",
       "      <td>624</td>\n",
       "      <td>171.2</td>\n",
       "      <td>205.44</td>\n",
       "      <td>0.0</td>\n",
       "      <td>171.9</td>\n",
       "      <td>245.6</td>\n",
       "      <td>5387.0</td>\n",
       "      <td>0.2</td>\n",
       "      <td>184.9</td>\n",
       "      <td>191.7</td>\n",
       "      <td>198.6</td>\n",
       "    </tr>\n",
       "    <tr>\n",
       "      <th>6</th>\n",
       "      <td>2022-10-09</td>\n",
       "      <td>243.8</td>\n",
       "      <td>30.0</td>\n",
       "      <td>2144</td>\n",
       "      <td>641</td>\n",
       "      <td>1917</td>\n",
       "      <td>-0.8</td>\n",
       "      <td>0.0</td>\n",
       "      <td>2585</td>\n",
       "      <td>668</td>\n",
       "      <td>170.7</td>\n",
       "      <td>204.84</td>\n",
       "      <td>0.0</td>\n",
       "      <td>171.8</td>\n",
       "      <td>245.4</td>\n",
       "      <td>6055.0</td>\n",
       "      <td>0.2</td>\n",
       "      <td>184.4</td>\n",
       "      <td>191.2</td>\n",
       "      <td>198.0</td>\n",
       "    </tr>\n",
       "    <tr>\n",
       "      <th>7</th>\n",
       "      <td>2022-10-10</td>\n",
       "      <td>243.2</td>\n",
       "      <td>32.3</td>\n",
       "      <td>2161</td>\n",
       "      <td>1239</td>\n",
       "      <td>2327</td>\n",
       "      <td>-0.6</td>\n",
       "      <td>2.3</td>\n",
       "      <td>3200</td>\n",
       "      <td>873</td>\n",
       "      <td>164.6</td>\n",
       "      <td>197.52</td>\n",
       "      <td>0.3</td>\n",
       "      <td>170.6</td>\n",
       "      <td>244.9</td>\n",
       "      <td>5735.0</td>\n",
       "      <td>0.2</td>\n",
       "      <td>177.8</td>\n",
       "      <td>184.4</td>\n",
       "      <td>190.9</td>\n",
       "    </tr>\n",
       "    <tr>\n",
       "      <th>8</th>\n",
       "      <td>2022-10-11</td>\n",
       "      <td>241.1</td>\n",
       "      <td>32.8</td>\n",
       "      <td>2150</td>\n",
       "      <td>892</td>\n",
       "      <td>1958</td>\n",
       "      <td>-2.1</td>\n",
       "      <td>0.5</td>\n",
       "      <td>2842</td>\n",
       "      <td>884</td>\n",
       "      <td>162.0</td>\n",
       "      <td>194.40</td>\n",
       "      <td>0.4</td>\n",
       "      <td>169.1</td>\n",
       "      <td>244.1</td>\n",
       "      <td>5749.0</td>\n",
       "      <td>0.2</td>\n",
       "      <td>175.0</td>\n",
       "      <td>181.4</td>\n",
       "      <td>187.9</td>\n",
       "    </tr>\n",
       "  </tbody>\n",
       "</table>\n",
       "</div>"
      ],
      "text/plain": [
       "        Date  Weight  Body Fat %   BMR  Apple Watch Calories Burned  \\\n",
       "4 2022-10-07   245.0        30.0  2200                         1125   \n",
       "5 2022-10-08   244.6        30.0  2144                          597   \n",
       "6 2022-10-09   243.8        30.0  2144                          641   \n",
       "7 2022-10-10   243.2        32.3  2161                         1239   \n",
       "8 2022-10-11   241.1        32.8  2150                          892   \n",
       "\n",
       "   Calorie Intake  Weight (delta)  Body Fat (delta)  Calorie Budget  \\\n",
       "4            2292            -0.4               0.0            3125   \n",
       "5            1917            -0.4               0.0            2541   \n",
       "6            1917            -0.8               0.0            2585   \n",
       "7            2327            -0.6               2.3            3200   \n",
       "8            1958            -2.1               0.5            2842   \n",
       "\n",
       "   Net Calories    LBM  Target Protein Intake  \\\n",
       "4           833  171.5                 205.80   \n",
       "5           624  171.2                 205.44   \n",
       "6           668  170.7                 204.84   \n",
       "7           873  164.6                 197.52   \n",
       "8           884  162.0                 194.40   \n",
       "\n",
       "   Body Fat (delta) - Weekly Rolling Average  LBM - Weekly Rolling Average  \\\n",
       "4                                        0.0                         172.1   \n",
       "5                                        0.0                         171.9   \n",
       "6                                        0.0                         171.8   \n",
       "7                                        0.3                         170.6   \n",
       "8                                        0.4                         169.1   \n",
       "\n",
       "   Weight - Weekly Rolling Average  Net Calories - Weekly Rolling Sum  \\\n",
       "4                            245.8                             4763.0   \n",
       "5                            245.6                             5387.0   \n",
       "6                            245.4                             6055.0   \n",
       "7                            244.9                             5735.0   \n",
       "8                            244.1                             5749.0   \n",
       "\n",
       "   Expected Weight Loss  8% Body Fat  12% Body Fat  16% Body Fat  \n",
       "4                   0.3        185.2         192.1         198.9  \n",
       "5                   0.2        184.9         191.7         198.6  \n",
       "6                   0.2        184.4         191.2         198.0  \n",
       "7                   0.2        177.8         184.4         190.9  \n",
       "8                   0.2        175.0         181.4         187.9  "
      ]
     },
     "execution_count": 196,
     "metadata": {},
     "output_type": "execute_result"
    }
   ],
   "source": [
    "dataframe.tail()"
   ]
  },
  {
   "cell_type": "code",
   "execution_count": 197,
   "metadata": {},
   "outputs": [
    {
     "data": {
      "image/png": "[encoded data removed]",
      "text/plain": [
       "<Figure size 432x288 with 1 Axes>"
      ]
     },
     "metadata": {
      "needs_background": "light"
     },
     "output_type": "display_data"
    }
   ],
   "source": [
    "dataframe.plot(x=\"Date\", y=[\"LBM\", \"LBM - Weekly Rolling Average\"])\n",
    "plt.show()"
   ]
  },
  {
   "cell_type": "code",
   "execution_count": 198,
   "metadata": {},
   "outputs": [
    {
     "data": {
      "image/png": "[encoded data removed]",
      "text/plain": [
       "<Figure size 432x288 with 1 Axes>"
      ]
     },
     "metadata": {
      "needs_background": "light"
     },
     "output_type": "display_data"
    }
   ],
   "source": [
    "dataframe.plot(x=\"Date\", y=[\"Weight\", \"Weight - Weekly Rolling Average\"])\n",
    "plt.show()"
   ]
  }
 ],
 "metadata": {
  "kernelspec": {
   "display_name": "Python 3.8.5 ('base')",
   "language": "python",
   "name": "python3"
  },
  "language_info": {
   "codemirror_mode": {
    "name": "ipython",
    "version": 3
   },
   "file_extension": ".py",
   "mimetype": "text/x-python",
   "name": "python",
   "nbconvert_exporter": "python",
   "pygments_lexer": "ipython3",
   "version": "3.8.5"
  },
  "orig_nbformat": 4,
  "vscode": {
   "interpreter": {
    "hash": "bdd9b1eeae52f1cf4529a3955062c22dfa1e2ad1bf91714334a053a18b7247fd"
   }
  }
 },
 "nbformat": 4,
 "nbformat_minor": 2
}
